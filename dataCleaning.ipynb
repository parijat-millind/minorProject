{
 "cells": [
  {
   "cell_type": "code",
   "execution_count": 3,
   "metadata": {},
   "outputs": [],
   "source": [
    "import pandas as pd\n",
    "import re\n",
    "import emoji"
   ]
  },
  {
   "cell_type": "code",
   "execution_count": 9,
   "metadata": {},
   "outputs": [],
   "source": [
    "# Function to clean text\n",
    "def clean_text(text):\n",
    "    # Remove URLs\n",
    "    text = re.sub(r'http\\S+|www\\S+|https\\S+', '', text, flags=re.MULTILINE)\n",
    "    \n",
    "    # Remove emojis\n",
    "    text = emoji.replace_emoji(text, replace='')\n",
    "\n",
    "    # Remove mentions (@username)\n",
    "    text = re.sub(r'@\\w+', '', text)\n",
    "    \n",
    "    # Remove hashtags\n",
    "    text = re.sub(r'#\\w+', '', text)\n",
    "    \n",
    "    # Remove HTML tags\n",
    "    text = re.sub(r'<.*?>', '', text)\n",
    "    \n",
    "    # Remove special characters, brackets, and digits\n",
    "    text = re.sub(r'[\\[\\]{}()<>]', '', text)\n",
    "    text = re.sub(r'[^a-zA-Z\\s]', '', text)\n",
    "    \n",
    "    # Remove newlines (\\n)\n",
    "    text = re.sub(r'\\n', ' ', text)  # Replace newlines with a space (you can replace with '' if you want to remove completely)\n",
    "    \n",
    "    # Convert to lowercase and strip extra whitespace\n",
    "    text = text.lower().strip()\n",
    "    \n",
    "    return text\n"
   ]
  },
  {
   "cell_type": "code",
   "execution_count": 11,
   "metadata": {},
   "outputs": [
    {
     "data": {
      "text/html": [
       "<div>\n",
       "<style scoped>\n",
       "    .dataframe tbody tr th:only-of-type {\n",
       "        vertical-align: middle;\n",
       "    }\n",
       "\n",
       "    .dataframe tbody tr th {\n",
       "        vertical-align: top;\n",
       "    }\n",
       "\n",
       "    .dataframe thead th {\n",
       "        text-align: right;\n",
       "    }\n",
       "</style>\n",
       "<table border=\"1\" class=\"dataframe\">\n",
       "  <thead>\n",
       "    <tr style=\"text-align: right;\">\n",
       "      <th></th>\n",
       "      <th>comment_text</th>\n",
       "      <th>abusive</th>\n",
       "    </tr>\n",
       "  </thead>\n",
       "  <tbody>\n",
       "    <tr>\n",
       "      <th>0</th>\n",
       "      <td>jm \\n\\nDid u block me on msn</td>\n",
       "      <td>0</td>\n",
       "    </tr>\n",
       "    <tr>\n",
       "      <th>1</th>\n",
       "      <td>New Hope, PA? \\n\\nHow are two musicians from N...</td>\n",
       "      <td>0</td>\n",
       "    </tr>\n",
       "    <tr>\n",
       "      <th>2</th>\n",
       "      <td>\"\\n\\n THE BOSTON RED SOX \\n\\n\"\"The Red Sox are...</td>\n",
       "      <td>1</td>\n",
       "    </tr>\n",
       "    <tr>\n",
       "      <th>3</th>\n",
       "      <td>Yup, it's fine for now, thanks.  (''talk)</td>\n",
       "      <td>0</td>\n",
       "    </tr>\n",
       "    <tr>\n",
       "      <th>4</th>\n",
       "      <td>Did you remove my post on the discussion page ...</td>\n",
       "      <td>0</td>\n",
       "    </tr>\n",
       "  </tbody>\n",
       "</table>\n",
       "</div>"
      ],
      "text/plain": [
       "                                        comment_text  abusive\n",
       "0                       jm \\n\\nDid u block me on msn        0\n",
       "1  New Hope, PA? \\n\\nHow are two musicians from N...        0\n",
       "2  \"\\n\\n THE BOSTON RED SOX \\n\\n\"\"The Red Sox are...        1\n",
       "3          Yup, it's fine for now, thanks.  (''talk)        0\n",
       "4  Did you remove my post on the discussion page ...        0"
      ]
     },
     "execution_count": 11,
     "metadata": {},
     "output_type": "execute_result"
    }
   ],
   "source": [
    "# Load the CSV file\n",
    "df = pd.read_csv('sampled_data.csv')\n",
    "\n",
    "df.head()"
   ]
  },
  {
   "cell_type": "code",
   "execution_count": 12,
   "metadata": {},
   "outputs": [
    {
     "name": "stdout",
     "output_type": "stream",
     "text": [
      "Cleaning completed and saved to 'cleaned_file.csv'.\n"
     ]
    }
   ],
   "source": [
    "\n",
    "\n",
    "# Apply cleaning function to the 'text' column\n",
    "df['cleaned_text'] = df['comment_text'].apply(clean_text)\n",
    "\n",
    "# Save the cleaned data to a new CSV file\n",
    "df.to_csv('cleaned_file.csv', index=False)\n",
    "\n",
    "print(\"Cleaning completed and saved to 'cleaned_file.csv'.\")"
   ]
  },
  {
   "cell_type": "code",
   "execution_count": 13,
   "metadata": {},
   "outputs": [
    {
     "data": {
      "text/html": [
       "<div>\n",
       "<style scoped>\n",
       "    .dataframe tbody tr th:only-of-type {\n",
       "        vertical-align: middle;\n",
       "    }\n",
       "\n",
       "    .dataframe tbody tr th {\n",
       "        vertical-align: top;\n",
       "    }\n",
       "\n",
       "    .dataframe thead th {\n",
       "        text-align: right;\n",
       "    }\n",
       "</style>\n",
       "<table border=\"1\" class=\"dataframe\">\n",
       "  <thead>\n",
       "    <tr style=\"text-align: right;\">\n",
       "      <th></th>\n",
       "      <th>comment_text</th>\n",
       "      <th>abusive</th>\n",
       "      <th>cleaned_text</th>\n",
       "    </tr>\n",
       "  </thead>\n",
       "  <tbody>\n",
       "    <tr>\n",
       "      <th>0</th>\n",
       "      <td>jm \\n\\nDid u block me on msn</td>\n",
       "      <td>0</td>\n",
       "      <td>jm   did u block me on msn</td>\n",
       "    </tr>\n",
       "    <tr>\n",
       "      <th>1</th>\n",
       "      <td>New Hope, PA? \\n\\nHow are two musicians from N...</td>\n",
       "      <td>0</td>\n",
       "      <td>new hope pa   how are two musicians from new h...</td>\n",
       "    </tr>\n",
       "    <tr>\n",
       "      <th>2</th>\n",
       "      <td>\"\\n\\n THE BOSTON RED SOX \\n\\n\"\"The Red Sox are...</td>\n",
       "      <td>1</td>\n",
       "      <td>the boston red sox   the red sox are the great...</td>\n",
       "    </tr>\n",
       "    <tr>\n",
       "      <th>3</th>\n",
       "      <td>Yup, it's fine for now, thanks.  (''talk)</td>\n",
       "      <td>0</td>\n",
       "      <td>yup its fine for now thanks  talk</td>\n",
       "    </tr>\n",
       "    <tr>\n",
       "      <th>4</th>\n",
       "      <td>Did you remove my post on the discussion page ...</td>\n",
       "      <td>0</td>\n",
       "      <td>did you remove my post on the discussion page ...</td>\n",
       "    </tr>\n",
       "  </tbody>\n",
       "</table>\n",
       "</div>"
      ],
      "text/plain": [
       "                                        comment_text  abusive  \\\n",
       "0                       jm \\n\\nDid u block me on msn        0   \n",
       "1  New Hope, PA? \\n\\nHow are two musicians from N...        0   \n",
       "2  \"\\n\\n THE BOSTON RED SOX \\n\\n\"\"The Red Sox are...        1   \n",
       "3          Yup, it's fine for now, thanks.  (''talk)        0   \n",
       "4  Did you remove my post on the discussion page ...        0   \n",
       "\n",
       "                                        cleaned_text  \n",
       "0                         jm   did u block me on msn  \n",
       "1  new hope pa   how are two musicians from new h...  \n",
       "2  the boston red sox   the red sox are the great...  \n",
       "3                  yup its fine for now thanks  talk  \n",
       "4  did you remove my post on the discussion page ...  "
      ]
     },
     "execution_count": 13,
     "metadata": {},
     "output_type": "execute_result"
    }
   ],
   "source": [
    "df.head()"
   ]
  }
 ],
 "metadata": {
  "kernelspec": {
   "display_name": "Python 3",
   "language": "python",
   "name": "python3"
  },
  "language_info": {
   "codemirror_mode": {
    "name": "ipython",
    "version": 3
   },
   "file_extension": ".py",
   "mimetype": "text/x-python",
   "name": "python",
   "nbconvert_exporter": "python",
   "pygments_lexer": "ipython3",
   "version": "3.undefined.undefined"
  }
 },
 "nbformat": 4,
 "nbformat_minor": 2
}
